{
 "cells": [
  {
   "cell_type": "code",
   "execution_count": 1,
   "metadata": {},
   "outputs": [],
   "source": [
    "import pandas as pd\n",
    "\n",
    "# Read the data\n",
    "df_train = pd.read_csv('train_final.csv')\n"
   ]
  },
  {
   "cell_type": "code",
   "execution_count": 4,
   "metadata": {},
   "outputs": [
    {
     "name": "stdout",
     "output_type": "stream",
     "text": [
      "0.7525206682568061\n"
     ]
    }
   ],
   "source": [
    "from sklearn.ensemble import RandomForestRegressor\n",
    "from sklearn.metrics import r2_score\n",
    "from sklearn.model_selection import KFold\n",
    "import numpy as np\n",
    "\n",
    "# define features to use\n",
    "x_feat_list = ['Energy (kcal)', 'Fat (g)', 'Saturated fat (g)', 'Carbohydrates (g)', 'Sugars (g)', 'Proteins (g)']\n",
    "\n",
    "# extract data from dataframe\n",
    "x = df_train.loc[:, x_feat_list].values\n",
    "y = df_train.loc[:, 'nutriscore'].values\n",
    "\n",
    "# define k-fold cross validation\n",
    "skfold = KFold(n_splits=3, shuffle=True)\n",
    "\n",
    "# define forest regressor\n",
    "rf_reg = RandomForestRegressor()\n",
    "\n",
    "# create empty array to store predictions\n",
    "y_pred = np.empty_like(y)\n",
    "\n",
    "# loop over k-fold cross validation\n",
    "for train_idx, test_idx in skfold.split(x, y):\n",
    "    # get the training data\n",
    "    x_train = x[train_idx, :]\n",
    "    y_train = y[train_idx]\n",
    "\n",
    "    # get the test data\n",
    "    x_test_pt4 = x[test_idx, :]\n",
    "\n",
    "    # fit the model\n",
    "    rf_reg = rf_reg.fit(x_train, y_train)\n",
    "\n",
    "    # predict the test data\n",
    "    y_pred[test_idx] = rf_reg.predict(x_test_pt4)\n",
    "\n",
    "# print R^2 score\n",
    "print(r2_score(y_true=y, y_pred=y_pred))"
   ]
  }
 ],
 "metadata": {
  "kernelspec": {
   "display_name": "Python 3",
   "language": "python",
   "name": "python3"
  },
  "language_info": {
   "codemirror_mode": {
    "name": "ipython",
    "version": 3
   },
   "file_extension": ".py",
   "mimetype": "text/x-python",
   "name": "python",
   "nbconvert_exporter": "python",
   "pygments_lexer": "ipython3",
   "version": "3.10.11"
  },
  "orig_nbformat": 4
 },
 "nbformat": 4,
 "nbformat_minor": 2
}
