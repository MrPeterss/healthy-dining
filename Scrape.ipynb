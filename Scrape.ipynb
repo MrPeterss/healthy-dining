{
 "cells": [
  {
   "attachments": {},
   "cell_type": "markdown",
   "metadata": {},
   "source": [
    "# Scraping A Large Dataset of Foods"
   ]
  },
  {
   "cell_type": "code",
   "execution_count": 68,
   "metadata": {},
   "outputs": [],
   "source": [
    "from bs4 import BeautifulSoup\n",
    "import requests\n",
    "import pandas as pd\n",
    "\n",
    "def get_food_links(url):\n",
    "    '''Takes a url and returns a dataframe with the food names and links to the food pages\n",
    "    \n",
    "    Args:\n",
    "        url (str): url to scrape\n",
    "\n",
    "    Returns:\n",
    "        foods (dataframe): dataframe with food names and links to the food pages\n",
    "    '''\n",
    "\n",
    "    # Get the data\n",
    "    r = requests.get(url)\n",
    "    # soup response\n",
    "    soup = BeautifulSoup(r.text, \"html.parser\")\n",
    "    # Create a dataframe\n",
    "    foods = pd.DataFrame(columns=[\"name\", \"url\"])\n",
    "    foods = foods.set_index(\"name\")\n",
    "\n",
    "    # Get unordered list of foods\n",
    "    ul = soup.find_all('ul')[10]\n",
    "    # Get the links from the foods\n",
    "    a = ul.find_all('a')\n",
    "    for i in a:\n",
    "        # extract and add their title and href to the dataframe\n",
    "        foods.loc[i.get(\"title\")] = \"https://us.openfoodfacts.org\"+i.get(\"href\")\n",
    "\n",
    "    return foods"
   ]
  },
  {
   "cell_type": "code",
   "execution_count": 69,
   "metadata": {},
   "outputs": [],
   "source": [
    "df = pd.DataFrame(columns=[\"name\", \"url\"])\n",
    "df = df.set_index(\"name\")\n",
    "\n",
    "for i in range(1, 31):\n",
    "    url = \"https://us.openfoodfacts.org/\" + str(i)\n",
    "    df = pd.concat([df, get_food_links(url)])\n"
   ]
  },
  {
   "cell_type": "code",
   "execution_count": 70,
   "metadata": {},
   "outputs": [
    {
     "data": {
      "text/html": [
       "<div>\n",
       "<style scoped>\n",
       "    .dataframe tbody tr th:only-of-type {\n",
       "        vertical-align: middle;\n",
       "    }\n",
       "\n",
       "    .dataframe tbody tr th {\n",
       "        vertical-align: top;\n",
       "    }\n",
       "\n",
       "    .dataframe thead th {\n",
       "        text-align: right;\n",
       "    }\n",
       "</style>\n",
       "<table border=\"1\" class=\"dataframe\">\n",
       "  <thead>\n",
       "    <tr style=\"text-align: right;\">\n",
       "      <th></th>\n",
       "      <th>url</th>\n",
       "    </tr>\n",
       "    <tr>\n",
       "      <th>name</th>\n",
       "      <th></th>\n",
       "    </tr>\n",
       "  </thead>\n",
       "  <tbody>\n",
       "    <tr>\n",
       "      <th>Nutella - Ferrero - 400 g</th>\n",
       "      <td>https://us.openfoodfacts.org/product/301762042...</td>\n",
       "    </tr>\n",
       "    <tr>\n",
       "      <th>Prince - Lu - 300 g</th>\n",
       "      <td>https://us.openfoodfacts.org/product/762221044...</td>\n",
       "    </tr>\n",
       "    <tr>\n",
       "      <th>Nutella - Ferrero - 1 kg</th>\n",
       "      <td>https://us.openfoodfacts.org/product/301762042...</td>\n",
       "    </tr>\n",
       "    <tr>\n",
       "      <th>Coca Cola Zero - 330 ml</th>\n",
       "      <td>https://us.openfoodfacts.org/product/544900013...</td>\n",
       "    </tr>\n",
       "    <tr>\n",
       "      <th>Muesli Raisin, Figue, Abricot - Bjorg - 375 g</th>\n",
       "      <td>https://us.openfoodfacts.org/product/322982012...</td>\n",
       "    </tr>\n",
       "    <tr>\n",
       "      <th>...</th>\n",
       "      <td>...</td>\n",
       "    </tr>\n",
       "    <tr>\n",
       "      <th>Rocky Mountain Marshmallow Classic (150G) - 150 g e</th>\n",
       "      <td>https://us.openfoodfacts.org/product/005430009...</td>\n",
       "    </tr>\n",
       "    <tr>\n",
       "      <th>Steak Sauce - A.1. - 5 OZ</th>\n",
       "      <td>https://us.openfoodfacts.org/product/005440000...</td>\n",
       "    </tr>\n",
       "    <tr>\n",
       "      <th>Original Sauce - A.1. Original - 10 OZ (283g)</th>\n",
       "      <td>https://us.openfoodfacts.org/product/005440000...</td>\n",
       "    </tr>\n",
       "    <tr>\n",
       "      <th>Dijon mustard - Grey Poupon - 454 g</th>\n",
       "      <td>https://us.openfoodfacts.org/product/005440060...</td>\n",
       "    </tr>\n",
       "    <tr>\n",
       "      <th>College Ruled Notebook - Starbucks - 30oz (850g) 1.87lb</th>\n",
       "      <td>https://us.openfoodfacts.org/product/005446705...</td>\n",
       "    </tr>\n",
       "  </tbody>\n",
       "</table>\n",
       "<p>2997 rows × 1 columns</p>\n",
       "</div>"
      ],
      "text/plain": [
       "                                                                                                  url\n",
       "name                                                                                                 \n",
       "Nutella - Ferrero - 400 g                           https://us.openfoodfacts.org/product/301762042...\n",
       "Prince - Lu - 300 g                                 https://us.openfoodfacts.org/product/762221044...\n",
       "Nutella - Ferrero - 1 kg                            https://us.openfoodfacts.org/product/301762042...\n",
       "Coca Cola Zero - 330 ml                             https://us.openfoodfacts.org/product/544900013...\n",
       "Muesli Raisin, Figue, Abricot - Bjorg - 375 g       https://us.openfoodfacts.org/product/322982012...\n",
       "...                                                                                               ...\n",
       "Rocky Mountain Marshmallow Classic (150G) - 150...  https://us.openfoodfacts.org/product/005430009...\n",
       "Steak Sauce - A.1. - 5 OZ                           https://us.openfoodfacts.org/product/005440000...\n",
       "Original Sauce - A.1. Original - 10 OZ (283g)       https://us.openfoodfacts.org/product/005440000...\n",
       "Dijon mustard - Grey Poupon - 454 g                 https://us.openfoodfacts.org/product/005440060...\n",
       "College Ruled Notebook - Starbucks - 30oz (850g...  https://us.openfoodfacts.org/product/005446705...\n",
       "\n",
       "[2997 rows x 1 columns]"
      ]
     },
     "execution_count": 70,
     "metadata": {},
     "output_type": "execute_result"
    }
   ],
   "source": [
    "df"
   ]
  }
 ],
 "metadata": {
  "kernelspec": {
   "display_name": "Python 3",
   "language": "python",
   "name": "python3"
  },
  "language_info": {
   "codemirror_mode": {
    "name": "ipython",
    "version": 3
   },
   "file_extension": ".py",
   "mimetype": "text/x-python",
   "name": "python",
   "nbconvert_exporter": "python",
   "pygments_lexer": "ipython3",
   "version": "3.10.10"
  },
  "orig_nbformat": 4
 },
 "nbformat": 4,
 "nbformat_minor": 2
}
