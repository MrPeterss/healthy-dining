{
 "cells": [
  {
   "cell_type": "code",
   "execution_count": null,
   "metadata": {},
   "outputs": [],
   "source": [
    "# Just testing selenium with calculators\n",
    "\n",
    "# Resources\n",
    "# https://www.scrapingbee.com/blog/selenium-python/\n"
   ]
  },
  {
   "cell_type": "code",
   "execution_count": 34,
   "metadata": {},
   "outputs": [],
   "source": [
    "# Variables we want to use\n",
    "\n",
    "user_age = 18\n",
    "user_gender = 'male'\n",
    "user_ft = 6\n",
    "user_in = 0\n",
    "user_lbs = 130\n",
    "user_activity = 'active'"
   ]
  },
  {
   "cell_type": "code",
   "execution_count": 27,
   "metadata": {},
   "outputs": [
    {
     "name": "stdout",
     "output_type": "stream",
     "text": [
      "Incorrect login/password\n"
     ]
    }
   ],
   "source": [
    "from selenium import webdriver\n",
    "from selenium.webdriver.chrome.service import Service\n",
    "from webdriver_manager.chrome import ChromeDriverManager\n",
    "from selenium.webdriver.common.by import By\n",
    "from selenium.common.exceptions import NoSuchElementException\n",
    "\n",
    "# prep driver\n",
    "driver = webdriver.Chrome(service=Service(ChromeDriverManager().install()))\n",
    "\n",
    "# get url\n",
    "driver.get(\"https://news.ycombinator.com/login\")\n",
    "\n",
    "USERNAME = 'testing'\n",
    "PASSWORD = 'fuckthis'\n",
    "\n",
    "login = driver.find_element(By.XPATH, \"//input\").send_keys(USERNAME)\n",
    "password = driver.find_element(By.XPATH, \"//input[@type='password']\").send_keys(PASSWORD)\n",
    "submit = driver.find_element(By.XPATH, \"//input[@value='login']\").click()\n",
    "\n",
    "try:\n",
    "    logout_button = driver.find_element(By.ID, \"logout\")\n",
    "    print('Successfully logged in')\n",
    "except NoSuchElementException:\n",
    "    print('Incorrect login/password')"
   ]
  },
  {
   "cell_type": "code",
   "execution_count": null,
   "metadata": {},
   "outputs": [],
   "source": []
  },
  {
   "cell_type": "code",
   "execution_count": 61,
   "metadata": {},
   "outputs": [],
   "source": [
    "from selenium import webdriver\n",
    "from selenium.webdriver.chrome.service import Service\n",
    "from webdriver_manager.chrome import ChromeDriverManager\n",
    "from selenium.webdriver.common.by import By\n",
    "from selenium.webdriver.common.keys import Keys\n",
    "\n",
    "# prep driver\n",
    "driver = webdriver.Chrome(service=Service(ChromeDriverManager().install()))\n",
    "\n",
    "# get url\n",
    "driver.get(\"https://www.calculator.net/macro-calculator.html\")\n",
    "\n",
    "# fiddle with age\n",
    "user_age = 18\n",
    "input_age = driver.find_element(By.XPATH, \"//input[@id='cage']\").send_keys(Keys.BACKSPACE+Keys.BACKSPACE+f'{user_age}')\n",
    "\n",
    "# fiddle with gender\n",
    "user_gender = 'female'\n",
    "if user_gender == 'male':\n",
    "    input_gender = driver.find_element(By.XPATH, '//*[@id=\"calinputtable\"]/tbody/tr[2]/td[2]/label[1]/span').click()\n",
    "if user_gender == 'female':\n",
    "    input_gender = driver.find_element(By.XPATH, '//*[@id=\"calinputtable\"]/tbody/tr[2]/td[2]/label[2]/span').click()\n",
    "\n"
   ]
  }
 ],
 "metadata": {
  "kernelspec": {
   "display_name": "Python 3",
   "language": "python",
   "name": "python3"
  },
  "language_info": {
   "codemirror_mode": {
    "name": "ipython",
    "version": 3
   },
   "file_extension": ".py",
   "mimetype": "text/x-python",
   "name": "python",
   "nbconvert_exporter": "python",
   "pygments_lexer": "ipython3",
   "version": "3.10.7"
  },
  "orig_nbformat": 4
 },
 "nbformat": 4,
 "nbformat_minor": 2
}
