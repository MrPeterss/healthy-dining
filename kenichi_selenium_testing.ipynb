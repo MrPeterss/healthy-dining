{
 "cells": [
  {
   "cell_type": "code",
   "execution_count": null,
   "metadata": {},
   "outputs": [],
   "source": [
    "# Just testing selenium with calculators\n",
    "\n",
    "# Resources\n",
    "# https://www.scrapingbee.com/blog/selenium-python/"
   ]
  },
  {
   "cell_type": "code",
   "execution_count": 1,
   "metadata": {},
   "outputs": [],
   "source": [
    "from selenium import webdriver\n",
    "from selenium.webdriver.chrome.service import Service\n",
    "from webdriver_manager.chrome import ChromeDriverManager\n",
    "from selenium.webdriver.common.by import By\n",
    "from selenium.webdriver.common.keys import Keys\n",
    "from selenium.webdriver.support.ui import Select\n",
    "import time\n",
    "\n",
    "def calculate_macro(age, gender, feet, inches, lbs, activity, goal):\n",
    "    \"\"\" Uses selenium to calculate macro values for a particular user\n",
    "    \"\"\"\n",
    "    # prep driver\n",
    "    driver = webdriver.Chrome(service=Service(ChromeDriverManager().install()))\n",
    "\n",
    "    # get url\n",
    "    driver.get(\"https://www.calculator.net/macro-calculator.html\")\n",
    "\n",
    "    # fiddle with age\n",
    "    input_age = driver.find_element(By.XPATH, \"//input[@id='cage']\").send_keys(Keys.BACKSPACE*2+f'{age}')\n",
    "\n",
    "    # fiddle with gender\n",
    "    gender = 'female'\n",
    "    if gender == 'male':\n",
    "        input_gender = driver.find_element(By.XPATH, '//*[@id=\"calinputtable\"]/tbody/tr[2]/td[2]/label[1]/span').click()\n",
    "    if gender == 'female':\n",
    "        input_gender = driver.find_element(By.XPATH, '//*[@id=\"calinputtable\"]/tbody/tr[2]/td[2]/label[2]/span').click()\n",
    "\n",
    "    # fiddle with height\n",
    "    input_ft = driver.find_element(By.XPATH, '//*[@id=\"cheightfeet\"]').send_keys(Keys.BACKSPACE+f'{feet}')\n",
    "    input_in = driver.find_element(By.XPATH, '//*[@id=\"cheightinch\"]').send_keys(Keys.BACKSPACE*2+f'{inches}')\n",
    "\n",
    "    # fiddle with weight\n",
    "    input_lbs = driver.find_element(By.XPATH, '//*[@id=\"cpound\"]').send_keys(Keys.BACKSPACE*3+f'{lbs}')\n",
    "\n",
    "    # fiddle with activity (drop down!)\n",
    "    activity_select = Select(driver.find_element(By.XPATH, '//*[@id=\"cactivity\"]'))\n",
    "    activity_select.select_by_value(f'{activity}')\n",
    "\n",
    "    # fiddle with goal\n",
    "    goal_select = Select(driver.find_element(By.XPATH, '//*[@id=\"cgoal\"]'))\n",
    "    goal_select.select_by_value(f'{goal}')\n",
    "\n",
    "    # click Calculate\n",
    "    init_calc = driver.find_element(By.XPATH, '//*[@id=\"content\"]/div[5]/table[4]/tbody/tr[4]/td[2]/input[2]').click()\n",
    "\n",
    "    time.sleep(100)\n",
    "\n"
   ]
  },
  {
   "cell_type": "code",
   "execution_count": 2,
   "metadata": {},
   "outputs": [],
   "source": [
    "calculate_macro(19, 'male', 5, 9, 160, 1.375, 'm')"
   ]
  },
  {
   "cell_type": "code",
   "execution_count": null,
   "metadata": {},
   "outputs": [],
   "source": []
  }
 ],
 "metadata": {
  "kernelspec": {
   "display_name": "Python 3",
   "language": "python",
   "name": "python3"
  },
  "language_info": {
   "codemirror_mode": {
    "name": "ipython",
    "version": 3
   },
   "file_extension": ".py",
   "mimetype": "text/x-python",
   "name": "python",
   "nbconvert_exporter": "python",
   "pygments_lexer": "ipython3",
   "version": "3.10.7"
  },
  "orig_nbformat": 4
 },
 "nbformat": 4,
 "nbformat_minor": 2
}
